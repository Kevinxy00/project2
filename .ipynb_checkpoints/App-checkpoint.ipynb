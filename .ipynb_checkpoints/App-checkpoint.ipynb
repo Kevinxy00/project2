{
 "cells": [
  {
   "cell_type": "markdown",
   "metadata": {},
   "source": [
    "# Flask App for Olympics Dashboard"
   ]
  },
  {
   "cell_type": "markdown",
   "metadata": {},
   "source": [
    "#### By Safaa Amer, Maya Dennis, Christa Fields, and Kevin Yao"
   ]
  },
  {
   "cell_type": "code",
   "execution_count": 11,
   "metadata": {
    "collapsed": true
   },
   "outputs": [],
   "source": [
    "# import dependecies\n",
    "import pandas as pd\n",
    "from flask import Flask, jsonify, render_template\n",
    "# note: importing various sqlalchemy methods for reading in sqlite database \n",
    "from sqlalchemy import create_engine, inspect, MetaData\n",
    "from sqlalchemy.orm import Session\n",
    "from sqlalchemy.ext.automap import automap_base"
   ]
  },
  {
   "cell_type": "code",
   "execution_count": 12,
   "metadata": {
    "collapsed": true
   },
   "outputs": [],
   "source": [
    "app = Flask(__name__)\n",
    "\n"
   ]
  },
  {
   "cell_type": "code",
   "execution_count": 13,
   "metadata": {
    "collapsed": true
   },
   "outputs": [],
   "source": [
    "# sqlalchemy 'create_engine' connect to sqlite database \n",
    "engine = create_engine(\"sqlite:///data/newsAPI.sqlite\")\n",
    "#    automapping the columns to sqlalchemy base object\n",
    "Base = automap_base()\n",
    "# reflect the tables\n",
    "Base.prepare(engine, reflect=True)"
   ]
  },
  {
   "cell_type": "code",
   "execution_count": 14,
   "metadata": {
    "collapsed": true
   },
   "outputs": [],
   "source": [
    "# saving references to each table\n",
    "NYT_results = Base.classes.NYT_api_results\n",
    "Guard_results = Base.classes.Guard_api_results\n",
    "Google_results = Base.classes.Google_trends_results\n"
   ]
  },
  {
   "cell_type": "code",
   "execution_count": 15,
   "metadata": {
    "collapsed": true
   },
   "outputs": [],
   "source": [
    "# creating session\n",
    "session = Session(engine)"
   ]
  },
  {
   "cell_type": "code",
   "execution_count": 16,
   "metadata": {
    "collapsed": true
   },
   "outputs": [],
   "source": [
    "# Flask route: index\n",
    "@app.route('/')\n",
    "def index():\n",
    "    return render_template(\"index.html\")"
   ]
  },
  {
   "cell_type": "code",
   "execution_count": 17,
   "metadata": {
    "collapsed": true
   },
   "outputs": [],
   "source": [
    "# Flask route: NYT api \n",
    "@app.route('/nyt_articles')\n",
    "def NYT_articles():\n",
    "    NYT_ls = []\n",
    "    query = session.query(NYT_results.news_id, NYT_results.year,\\\n",
    "                     NYT_results.article_hits).all()\n",
    "    for instance in query:\n",
    "        NYT_ls.append({\"news_id\":instance[0], \"year\":instance[1],\\\n",
    "                       \"article_hits\":instance[2]})\n",
    "    return jsonify(NYT_ls)"
   ]
  },
  {
   "cell_type": "code",
   "execution_count": 18,
   "metadata": {
    "collapsed": true
   },
   "outputs": [],
   "source": [
    "# Flask route: theGuardian api\n",
    "@app.route(\"/guardian_articles\")\n",
    "def Guard_articles():\n",
    "    Guard_ls = []\n",
    "    query = session.query(Guard_results.news_id, Guard_results.year,\\\n",
    "                     Guard_results.article_hits).all()\n",
    "    for instance in query:\n",
    "        Guard_ls.append({\"news_id\":instance[0], \"year\":instance[1],\\\n",
    "                       \"article_hits\":instance[2]})\n",
    "    return jsonify(Guard_ls)\n",
    "    "
   ]
  },
  {
   "cell_type": "code",
   "execution_count": 19,
   "metadata": {
    "collapsed": true
   },
   "outputs": [],
   "source": [
    "# Flask route: Google trends\n",
    "@app.route(\"/google_trends\")\n",
    "def Google_trends():\n",
    "    Goog_ls = []\n",
    "    query = session.query(Google_results.month,\\\n",
    "                     Google_results.trend).all()\n",
    "    for instance in query:\n",
    "        Goog_ls.append({\"month\":instance[0],\\\n",
    "                       \"trend\":instance[1]})\n",
    "    return jsonify(Goog_ls)\n",
    "    "
   ]
  },
  {
   "cell_type": "code",
   "execution_count": null,
   "metadata": {
    "collapsed": true
   },
   "outputs": [],
   "source": [
    "# Flask route: Olympics GDP\n",
    "@app.route(\"olympics_gdp_data\")\n",
    "def olympics_gdp_data():\n",
    "    gdp_data_ls = []\n",
    "    gdp_df = pd.read_csv(\"data/Olympics_final.csv\")\n",
    "    for index, row in gdp_df.iterrows():\n",
    "        rank = row[\"Rank\"]\n",
    "        gold = row[\"Gold\"]\n",
    "        silver = row[\"Silver\"]\n",
    "        bronze = row[\"Bronze\"]\n",
    "        total = row[\"Total\"]\n",
    "        year = row[\"Year\"]\n",
    "        season = row[\"Season\"]\n",
    "        country = row[\"Country\"]\n",
    "        GDP = row[\"GDP\"]\n",
    "        latitude = row[\"Latitude\"] \n",
    "        longitude = row[\"Longitude\"]\n",
    "        \n",
    "        gdp_data_ls.append({\"Rank\": rank},\\\n",
    "                          {\"Gold\":gold},\\\n",
    "                          {\"Silver\":silver},\\\n",
    "                          {\"Bronze\": bronze},\\\n",
    "                          {\"Total\":total},\\\n",
    "                          {\"Year\": year},\\\n",
    "                          {\"Season\": season},\\\n",
    "                          {\"Country\": country},\\\n",
    "                          {\"GDP\":GDP},\\\n",
    "                          {\"Latitude\": latitude},\n",
    "                          {\"Longitude\": longitude})\n",
    "    return jsonify(gdp_df)\n",
    "        "
   ]
  },
  {
   "cell_type": "code",
   "execution_count": 20,
   "metadata": {},
   "outputs": [
    {
     "name": "stderr",
     "output_type": "stream",
     "text": [
      " * Running on http://127.0.0.1:5000/ (Press CTRL+C to quit)\n",
      "127.0.0.1 - - [17/Mar/2018 10:23:48] \"GET / HTTP/1.1\" 200 -\n",
      "127.0.0.1 - - [17/Mar/2018 10:23:49] \"GET /nyt_articles HTTP/1.1\" 200 -\n"
     ]
    }
   ],
   "source": [
    "# Run app \n",
    "if __name__ == \"__main__\":\n",
    "    app.run(debug=False)\n",
    "    # if there's any problems, set debug =False"
   ]
  },
  {
   "cell_type": "code",
   "execution_count": null,
   "metadata": {
    "collapsed": true
   },
   "outputs": [],
   "source": []
  }
 ],
 "metadata": {
  "kernelspec": {
   "display_name": "Python (PythonData)",
   "language": "python",
   "name": "pythondata"
  },
  "language_info": {
   "codemirror_mode": {
    "name": "ipython",
    "version": 3
   },
   "file_extension": ".py",
   "mimetype": "text/x-python",
   "name": "python",
   "nbconvert_exporter": "python",
   "pygments_lexer": "ipython3",
   "version": "3.6.3"
  }
 },
 "nbformat": 4,
 "nbformat_minor": 2
}
