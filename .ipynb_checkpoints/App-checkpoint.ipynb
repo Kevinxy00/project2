{
 "cells": [
  {
   "cell_type": "markdown",
   "metadata": {},
   "source": [
    "# Flask App for Olympics Dashboard"
   ]
  },
  {
   "cell_type": "markdown",
   "metadata": {},
   "source": [
    "#### By Safaa Amer, Maya Dennis, Christa Fields, and Kevin Yao"
   ]
  },
  {
   "cell_type": "code",
   "execution_count": null,
   "metadata": {
    "collapsed": true
   },
   "outputs": [],
   "source": [
    "# import dependecies\n",
    "from flask import Flask, jsonify, render_template\n",
    "# note: importing various sqlalchemy methods for reading in sqlite database \n",
    "from sqlalchemy import create_engine, inspect, MetaData\n",
    "from sqlalchemy.orm import Session\n",
    "from sqlalchemy.ext.automap import automap_base"
   ]
  },
  {
   "cell_type": "code",
   "execution_count": null,
   "metadata": {
    "collapsed": true
   },
   "outputs": [],
   "source": [
    "app = Flask(__name__)\n",
    "\n"
   ]
  },
  {
   "cell_type": "code",
   "execution_count": null,
   "metadata": {
    "collapsed": true
   },
   "outputs": [],
   "source": [
    "# sqlalchemy 'create_engine' connect to sqlite database \n",
    "engine = create_engine(\"sqlite:///data/newsAPI.sqlite\")\n",
    "#    automapping the columns to sqlalchemy base object\n",
    "Base = automap_base()\n",
    "# reflect the tables\n",
    "Base.prepare(engine, reflect=True)"
   ]
  },
  {
   "cell_type": "code",
   "execution_count": null,
   "metadata": {
    "collapsed": true
   },
   "outputs": [],
   "source": [
    "# saving references to each table\n",
    "NYT_results = Base.classes.NYT_api_results\n",
    "Guard_results = Base.classes.Guard_api_results\n",
    "Google_results = Base.classes.Google_trends_results\n"
   ]
  },
  {
   "cell_type": "code",
   "execution_count": null,
   "metadata": {
    "collapsed": true
   },
   "outputs": [],
   "source": [
    "# creating session\n",
    "session = Session(engine)"
   ]
  },
  {
   "cell_type": "code",
   "execution_count": null,
   "metadata": {
    "collapsed": true
   },
   "outputs": [],
   "source": [
    "# Flask route: index\n",
    "@app.route('/')\n",
    "def index():\n",
    "    return render_template(\"index.html\")"
   ]
  },
  {
   "cell_type": "code",
   "execution_count": null,
   "metadata": {
    "collapsed": true
   },
   "outputs": [],
   "source": [
    "# Flask route: NYT api \n",
    "@app.route('/nyt_articles')\n",
    "def NYT_articles():\n",
    "    NYT_ls = []\n",
    "    query = session.query(NYT_results.news_id, NYT_results.year,\\\n",
    "                     NYT_results.article_hits).all()\n",
    "    for instance in query:\n",
    "        NYT_ls.append({\"news_id\":instance[0], \"year\":instance[1],\\\n",
    "                       \"article_hits\":instance[2]})\n",
    "    return jsonify(NYT_ls)"
   ]
  },
  {
   "cell_type": "code",
   "execution_count": null,
   "metadata": {
    "collapsed": true
   },
   "outputs": [],
   "source": [
    "# Flask route: theGuardian api\n",
    "@app.route(\"/guardian_articles\")\n",
    "def Guard_articles():\n",
    "    Guard_ls = []\n",
    "    query = session.query(Guard_results.news_id, Guard_results.year,\\\n",
    "                     Guard_results.article_hits).all()\n",
    "    for instance in query:\n",
    "        Guard_ls.append({\"news_id\":instance[0], \"year\":instance[1],\\\n",
    "                       \"article_hits\":instance[2]})\n",
    "    return jsonify(Guard_ls)\n",
    "    "
   ]
  },
  {
   "cell_type": "code",
   "execution_count": null,
   "metadata": {
    "collapsed": true
   },
   "outputs": [],
   "source": [
    "# Flask route: Google trends\n",
    "@app.route(\"/google_trends\")\n",
    "def Google_trends():\n",
    "    Goog_ls = []\n",
    "    query = session.query(Google_results.month,\\\n",
    "                     Google_results.trend).all()\n",
    "    for instance in query:\n",
    "        Goog_ls.append({\"month\":instance[0],\\\n",
    "                       \"trend\":instance[1]})\n",
    "    return jsonify(Goog_ls)\n",
    "    "
   ]
  },
  {
   "cell_type": "code",
   "execution_count": null,
   "metadata": {},
   "outputs": [],
   "source": [
    "# Run app \n",
    "if __name__ == \"__main__\":\n",
    "    app.run(debug=False)\n",
    "    # if there's any problems, set debug =False"
   ]
  },
  {
   "cell_type": "code",
   "execution_count": null,
   "metadata": {
    "collapsed": true
   },
   "outputs": [],
   "source": []
  }
 ],
 "metadata": {
  "kernelspec": {
   "display_name": "Python (PythonData)",
   "language": "python",
   "name": "pythondata"
  },
  "language_info": {
   "codemirror_mode": {
    "name": "ipython",
    "version": 3
   },
   "file_extension": ".py",
   "mimetype": "text/x-python",
   "name": "python",
   "nbconvert_exporter": "python",
   "pygments_lexer": "ipython3",
   "version": "3.6.3"
  }
 },
 "nbformat": 4,
 "nbformat_minor": 2
}
