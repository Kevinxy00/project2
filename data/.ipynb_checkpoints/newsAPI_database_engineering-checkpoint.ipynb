{
 "cells": [
  {
   "cell_type": "code",
   "execution_count": 13,
   "metadata": {
    "collapsed": true
   },
   "outputs": [],
   "source": [
    "# csv to sqlite database\n",
    "# import dependencies\n",
    "import pandas as pd\n",
    "from sqlalchemy import Column, String, Integer, Float, Date\n",
    "from sqlalchemy.ext.declarative import declarative_base\n",
    "from sqlalchemy import create_engine, MetaData, Table, inspect \n",
    "from sqlalchemy.orm import Session\n",
    "from sqlalchemy.orm import sessionmaker"
   ]
  },
  {
   "cell_type": "code",
   "execution_count": 14,
   "metadata": {
    "collapsed": true
   },
   "outputs": [],
   "source": [
    "# importing the csv files for article counts and google trends \n",
    "path1 = \"Guard_df.csv\"\n",
    "path2 = \"NYT_df.csv\"\n",
    "path3 = \"google_olympics_worldwide-multiTimeline.csv\"\n",
    "Guard_df = pd.read_csv(path1)\n",
    "NYT_df = pd.read_csv(path2)\n",
    "Googl_df = pd.read_csv(path3, header=1)"
   ]
  },
  {
   "cell_type": "code",
   "execution_count": 15,
   "metadata": {},
   "outputs": [
    {
     "data": {
      "text/plain": [
       "' Messes up later with plotting. Since only contains year and month, \\nit artificially adds the first of the month as the day.\\n\\nGoogl_df[\"Month\"] = pd.to_datetime(Googl_df[\"Month\"])\\nGoogl_df.dtypes'"
      ]
     },
     "execution_count": 15,
     "metadata": {},
     "output_type": "execute_result"
    }
   ],
   "source": [
    "# changing google data to datetime, just in case\n",
    "''' Messes up later with plotting. Since only contains year and month, \n",
    "it artificially adds the first of the month as the day.\n",
    "\n",
    "Googl_df[\"Month\"] = pd.to_datetime(Googl_df[\"Month\"])\n",
    "Googl_df.dtypes'''"
   ]
  },
  {
   "cell_type": "code",
   "execution_count": 16,
   "metadata": {
    "collapsed": true
   },
   "outputs": [],
   "source": [
    "# adding olympics_year data (\"olympics\" if summer or regular olympics, \"winter\" if winter olympics)\n",
    "# data starts at 1918\n",
    "# ToDo if necessary"
   ]
  },
  {
   "cell_type": "markdown",
   "metadata": {},
   "source": [
    "### Creating Sqlite database"
   ]
  },
  {
   "cell_type": "code",
   "execution_count": 17,
   "metadata": {
    "collapsed": true
   },
   "outputs": [],
   "source": [
    "# *** Using Declarative Base\n",
    "Base = declarative_base()\n"
   ]
  },
  {
   "cell_type": "code",
   "execution_count": 18,
   "metadata": {
    "collapsed": true
   },
   "outputs": [],
   "source": [
    "# creating NYT table for the database\n",
    "class NYT(Base):\n",
    "    __tablename__ = \"NYT_api_results\"\n",
    "    news_id = Column(Integer, primary_key=True, nullable=False)\n",
    "    year = Column(Integer)\n",
    "    article_hits = Column(Integer)\n"
   ]
  },
  {
   "cell_type": "code",
   "execution_count": 19,
   "metadata": {
    "collapsed": true
   },
   "outputs": [],
   "source": [
    "# theGuardian table for the database\n",
    "class Guard(Base):\n",
    "    __tablename__ = \"Guard_api_results\"\n",
    "    news_id = Column(Integer, primary_key=True, nullable=False)\n",
    "    year = Column(Integer)\n",
    "    article_hits = Column(Integer)"
   ]
  },
  {
   "cell_type": "code",
   "execution_count": 20,
   "metadata": {
    "collapsed": true
   },
   "outputs": [],
   "source": [
    "# Google Trends data for the database\n",
    "class GooglTrends(Base):\n",
    "    __tablename__ = \"Google_trends_results\"\n",
    "    goog_id = Column(Integer, primary_key=True, nullable=False, autoincrement=True)\n",
    "    month = Column(String(32))\n",
    "    trend = Column(Integer)"
   ]
  },
  {
   "cell_type": "code",
   "execution_count": 21,
   "metadata": {},
   "outputs": [
    {
     "name": "stdout",
     "output_type": "stream",
     "text": [
      "dropping all tables!\n"
     ]
    }
   ],
   "source": [
    "# Use the `engine` and connection string to create a database called `newsAPI.sqlite`\n",
    "engine = create_engine('sqlite:///newsAPI.sqlite')\n",
    "# drop tables if exist\n",
    "if engine.dialect.has_table:\n",
    "    print(\"dropping all tables!\")\n",
    "    Base.metadata.drop_all(engine)\n",
    "    \n",
    "conn = engine.connect()\n",
    "# Create the tables within the database\n",
    "Base.metadata.create_all(engine)\n",
    "\n",
    "# create session\n",
    "session = Session(bind=engine)\n"
   ]
  },
  {
   "cell_type": "code",
   "execution_count": 22,
   "metadata": {
    "scrolled": false
   },
   "outputs": [
    {
     "name": "stdout",
     "output_type": "stream",
     "text": [
      "finished adding NYT records!\n"
     ]
    }
   ],
   "source": [
    "# Adding NYT data\n",
    "\n",
    "for index, row in NYT_df.iterrows():\n",
    "    record = NYT(news_id = int(row['Unnamed: 0']), year = int(row[\"Year\"]),\\\n",
    "                 article_hits = int(row[\"article_hits\"]))\n",
    "    session.add(record)\n",
    "    session.commit()\n",
    "    \n",
    "print(\"finished adding NYT records!\")\n"
   ]
  },
  {
   "cell_type": "code",
   "execution_count": 23,
   "metadata": {},
   "outputs": [
    {
     "name": "stdout",
     "output_type": "stream",
     "text": [
      "finished adding Guardian record!\n"
     ]
    }
   ],
   "source": [
    "# Adding Guardian data\n",
    "for index, row in Guard_df.iterrows():\n",
    "    record = Guard(news_id = int(row[\"Unnamed: 0\"]),\\\n",
    "                   year = int(row[\"Year\"]), article_hits = int(row[\"article_hits\"]))\n",
    "    session.add(record)\n",
    "    session.commit()\n",
    "    \n",
    "print(\"finished adding Guardian record!\")\n"
   ]
  },
  {
   "cell_type": "code",
   "execution_count": 24,
   "metadata": {},
   "outputs": [
    {
     "name": "stdout",
     "output_type": "stream",
     "text": [
      "finished adding Google Trends record!\n"
     ]
    }
   ],
   "source": [
    "# Adding Google Trends data\n",
    "for index, row in Googl_df.iterrows():\n",
    "    record = GooglTrends(month = row[\"Month\"],\\\n",
    "                         trend = int(row[\"olympics: (Worldwide)\"]))\n",
    "    session.add(record)\n",
    "    session.commit()\n",
    "    \n",
    "print(\"finished adding Google Trends record!\")"
   ]
  },
  {
   "cell_type": "code",
   "execution_count": 25,
   "metadata": {},
   "outputs": [
    {
     "data": {
      "text/html": [
       "<div>\n",
       "<style>\n",
       "    .dataframe thead tr:only-child th {\n",
       "        text-align: right;\n",
       "    }\n",
       "\n",
       "    .dataframe thead th {\n",
       "        text-align: left;\n",
       "    }\n",
       "\n",
       "    .dataframe tbody tr th {\n",
       "        vertical-align: top;\n",
       "    }\n",
       "</style>\n",
       "<table border=\"1\" class=\"dataframe\">\n",
       "  <thead>\n",
       "    <tr style=\"text-align: right;\">\n",
       "      <th></th>\n",
       "      <th>goog_id</th>\n",
       "      <th>month</th>\n",
       "      <th>trend</th>\n",
       "    </tr>\n",
       "  </thead>\n",
       "  <tbody>\n",
       "    <tr>\n",
       "      <th>0</th>\n",
       "      <td>1</td>\n",
       "      <td>2004-01</td>\n",
       "      <td>3</td>\n",
       "    </tr>\n",
       "    <tr>\n",
       "      <th>1</th>\n",
       "      <td>2</td>\n",
       "      <td>2004-02</td>\n",
       "      <td>4</td>\n",
       "    </tr>\n",
       "    <tr>\n",
       "      <th>2</th>\n",
       "      <td>3</td>\n",
       "      <td>2004-03</td>\n",
       "      <td>4</td>\n",
       "    </tr>\n",
       "    <tr>\n",
       "      <th>3</th>\n",
       "      <td>4</td>\n",
       "      <td>2004-04</td>\n",
       "      <td>4</td>\n",
       "    </tr>\n",
       "    <tr>\n",
       "      <th>4</th>\n",
       "      <td>5</td>\n",
       "      <td>2004-05</td>\n",
       "      <td>5</td>\n",
       "    </tr>\n",
       "  </tbody>\n",
       "</table>\n",
       "</div>"
      ],
      "text/plain": [
       "   goog_id    month  trend\n",
       "0        1  2004-01      3\n",
       "1        2  2004-02      4\n",
       "2        3  2004-03      4\n",
       "3        4  2004-04      4\n",
       "4        5  2004-05      5"
      ]
     },
     "execution_count": 25,
     "metadata": {},
     "output_type": "execute_result"
    }
   ],
   "source": [
    "# checking to see if data is added \n",
    "query = \"SELECT * FROM Google_trends_results\"\n",
    "pd.read_sql_query(query, engine).head()"
   ]
  }
 ],
 "metadata": {
  "kernelspec": {
   "display_name": "Python (PythonData)",
   "language": "python",
   "name": "pythondata"
  },
  "language_info": {
   "codemirror_mode": {
    "name": "ipython",
    "version": 3
   },
   "file_extension": ".py",
   "mimetype": "text/x-python",
   "name": "python",
   "nbconvert_exporter": "python",
   "pygments_lexer": "ipython3",
   "version": "3.6.3"
  }
 },
 "nbformat": 4,
 "nbformat_minor": 2
}
