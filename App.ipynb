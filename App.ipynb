{
 "cells": [
  {
   "cell_type": "markdown",
   "metadata": {},
   "source": [
    "# Flask App for Olympics Dashboard"
   ]
  },
  {
   "cell_type": "markdown",
   "metadata": {},
   "source": [
    "#### By Safaa Amer, Maya Dennis, Christa Fields, and Kevin Yao"
   ]
  },
  {
   "cell_type": "code",
   "execution_count": 257,
   "metadata": {
    "collapsed": true
   },
   "outputs": [],
   "source": [
    "# import dependecies\n",
    "from flask import Flask, jsonify, render_template\n",
    "# note: importing various sqlalchemy methods for reading in sqlite database \n",
    "from sqlalchemy import create_engine, inspect, MetaData\n",
    "from sqlalchemy.orm import Session\n",
    "from sqlalchemy.ext.automap import automap_base"
   ]
  },
  {
   "cell_type": "code",
   "execution_count": 258,
   "metadata": {
    "collapsed": true
   },
   "outputs": [],
   "source": [
    "app = Flask(__name__)\n",
    "\n"
   ]
  },
  {
   "cell_type": "code",
   "execution_count": 259,
   "metadata": {
    "collapsed": true
   },
   "outputs": [],
   "source": [
    "# sqlalchemy 'create_engine' connect to sqlite database \n",
    "engine = create_engine(\"sqlite:///data/newsAPI.sqlite\")\n",
    "#    automapping the columns to sqlalchemy base object\n",
    "Base = automap_base()\n",
    "# reflect the tables\n",
    "Base.prepare(engine, reflect=True)"
   ]
  },
  {
   "cell_type": "code",
   "execution_count": 260,
   "metadata": {},
   "outputs": [
    {
     "data": {
      "text/plain": [
       "['Google_trends_results', 'Guard_api_results', 'NYT_api_results']"
      ]
     },
     "execution_count": 260,
     "metadata": {},
     "output_type": "execute_result"
    }
   ],
   "source": [
    "# save list of column names to var\n",
    "inspector = inspect(engine)\n",
    "\n",
    "inspector.get_table_names()"
   ]
  },
  {
   "cell_type": "code",
   "execution_count": 261,
   "metadata": {},
   "outputs": [
    {
     "name": "stdout",
     "output_type": "stream",
     "text": [
      "<class 'sqlalchemy.ext.automap.NYT_api_results'>\n"
     ]
    }
   ],
   "source": [
    "# saving references to each table\n",
    "NYT_results = Base.classes.NYT_api_results\n",
    "Guard_results = Base.classes.Guard_api_results\n",
    "Google_results = Base.classes.Google_trends_results\n",
    "print(NYT_results)"
   ]
  },
  {
   "cell_type": "code",
   "execution_count": 262,
   "metadata": {
    "collapsed": true
   },
   "outputs": [],
   "source": [
    "# creating session\n",
    "session = Session(engine)"
   ]
  },
  {
   "cell_type": "code",
   "execution_count": 263,
   "metadata": {},
   "outputs": [],
   "source": [
    "# Flask route: index\n",
    "@app.route('/')\n",
    "def index():\n",
    "    return render_template(\"index.html\")"
   ]
  },
  {
   "cell_type": "code",
   "execution_count": 264,
   "metadata": {},
   "outputs": [],
   "source": [
    "# Flask route: NYT api \n",
    "@app.route('/nyt_articles')\n",
    "def NYT_articles():\n",
    "    NYT_ls = []\n",
    "    query = session.query(NYT_results.news_id, NYT_results.year,\\\n",
    "                     NYT_results.article_hits).all()\n",
    "    for instance in query:\n",
    "        NYT_ls.append({\"news_id\":instance[0], \"year\":instance[1],\\\n",
    "                       \"article_hits\":instance[2]})\n",
    "    return jsonify(NYT_ls)"
   ]
  },
  {
   "cell_type": "code",
   "execution_count": 265,
   "metadata": {},
   "outputs": [],
   "source": [
    "# Flask route: theGuardian api\n",
    "@app.route(\"/guardian_articles\")\n",
    "def Guard_articles():\n",
    "    Guard_ls = []\n",
    "    query = session.query(Guard_results.news_id, Guard_results.year,\\\n",
    "                     Guard_results.article_hits).all()\n",
    "    for instance in query:\n",
    "        Guard_ls.append({\"news_id\":instance[0], \"year\":instance[1],\\\n",
    "                       \"article_hits\":instance[2]})\n",
    "    return jsonify(Guard_ls)\n",
    "    "
   ]
  },
  {
   "cell_type": "code",
   "execution_count": null,
   "metadata": {
    "collapsed": true
   },
   "outputs": [],
   "source": [
    "# Flask route: Google trends\n",
    "@app.route(\"/google_trends\")\n",
    "def Google_trends():\n",
    "    Goog_ls = []\n",
    "    query = session.query(Google_results.month,\\\n",
    "                     Google_results.trend).all()\n",
    "    for instance in query:\n",
    "        Goog_ls.append({\"month\":instance[0],\\\n",
    "                       \"trend\":instance[1]})\n",
    "    return jsonify(Goog_ls)\n",
    "    "
   ]
  },
  {
   "cell_type": "code",
   "execution_count": null,
   "metadata": {},
   "outputs": [
    {
     "name": "stderr",
     "output_type": "stream",
     "text": [
      " * Running on http://127.0.0.1:5000/ (Press CTRL+C to quit)\n",
      "[2018-03-14 21:29:32,359] ERROR in app: Exception on / [GET]\n",
      "Traceback (most recent call last):\n",
      "  File \"C:\\Users\\K Y\\Anaconda3\\lib\\site-packages\\flask\\app.py\", line 1982, in wsgi_app\n",
      "    response = self.full_dispatch_request()\n",
      "  File \"C:\\Users\\K Y\\Anaconda3\\lib\\site-packages\\flask\\app.py\", line 1614, in full_dispatch_request\n",
      "    rv = self.handle_user_exception(e)\n",
      "  File \"C:\\Users\\K Y\\Anaconda3\\lib\\site-packages\\flask\\app.py\", line 1517, in handle_user_exception\n",
      "    reraise(exc_type, exc_value, tb)\n",
      "  File \"C:\\Users\\K Y\\Anaconda3\\lib\\site-packages\\flask\\_compat.py\", line 33, in reraise\n",
      "    raise value\n",
      "  File \"C:\\Users\\K Y\\Anaconda3\\lib\\site-packages\\flask\\app.py\", line 1612, in full_dispatch_request\n",
      "    rv = self.dispatch_request()\n",
      "  File \"C:\\Users\\K Y\\Anaconda3\\lib\\site-packages\\flask\\app.py\", line 1598, in dispatch_request\n",
      "    return self.view_functions[rule.endpoint](**req.view_args)\n",
      "  File \"<ipython-input-263-a33b5b4d5a28>\", line 4, in index\n",
      "    return render_template(\"index.html\")\n",
      "  File \"C:\\Users\\K Y\\Anaconda3\\lib\\site-packages\\flask\\templating.py\", line 133, in render_template\n",
      "    return _render(ctx.app.jinja_env.get_or_select_template(template_name_or_list),\n",
      "  File \"C:\\Users\\K Y\\Anaconda3\\lib\\site-packages\\jinja2\\environment.py\", line 869, in get_or_select_template\n",
      "    return self.get_template(template_name_or_list, parent, globals)\n",
      "  File \"C:\\Users\\K Y\\Anaconda3\\lib\\site-packages\\jinja2\\environment.py\", line 830, in get_template\n",
      "    return self._load_template(name, self.make_globals(globals))\n",
      "  File \"C:\\Users\\K Y\\Anaconda3\\lib\\site-packages\\jinja2\\environment.py\", line 804, in _load_template\n",
      "    template = self.loader.load(self, name, globals)\n",
      "  File \"C:\\Users\\K Y\\Anaconda3\\lib\\site-packages\\jinja2\\loaders.py\", line 125, in load\n",
      "    code = environment.compile(source, name, filename)\n",
      "  File \"C:\\Users\\K Y\\Anaconda3\\lib\\site-packages\\jinja2\\environment.py\", line 591, in compile\n",
      "    self.handle_exception(exc_info, source_hint=source_hint)\n",
      "  File \"C:\\Users\\K Y\\Anaconda3\\lib\\site-packages\\jinja2\\environment.py\", line 780, in handle_exception\n",
      "    reraise(exc_type, exc_value, tb)\n",
      "  File \"C:\\Users\\K Y\\Anaconda3\\lib\\site-packages\\jinja2\\_compat.py\", line 37, in reraise\n",
      "    raise value.with_traceback(tb)\n",
      "  File \"C:\\Users\\K Y\\GWDataHW\\project2\\templates\\index.html\", line 16, in template\n",
      "    <img id=\"flag1\" src=\"static\" + {{900px-Olympic_flag.svg.png}} alt=\"Olympic_flag\">\n",
      "  File \"C:\\Users\\K Y\\Anaconda3\\lib\\site-packages\\jinja2\\environment.py\", line 497, in _parse\n",
      "    return Parser(self, source, name, encode_filename(filename)).parse()\n",
      "  File \"C:\\Users\\K Y\\Anaconda3\\lib\\site-packages\\jinja2\\parser.py\", line 896, in parse\n",
      "    result = nodes.Template(self.subparse(), lineno=1)\n",
      "  File \"C:\\Users\\K Y\\Anaconda3\\lib\\site-packages\\jinja2\\parser.py\", line 871, in subparse\n",
      "    self.stream.expect('variable_end')\n",
      "  File \"C:\\Users\\K Y\\Anaconda3\\lib\\site-packages\\jinja2\\lexer.py\", line 386, in expect\n",
      "    self.name, self.filename)\n",
      "jinja2.exceptions.TemplateSyntaxError: expected token 'end of print statement', got 'px'\n",
      "127.0.0.1 - - [14/Mar/2018 21:29:32] \"GET / HTTP/1.1\" 500 -\n"
     ]
    }
   ],
   "source": [
    "# Run app \n",
    "if __name__ == \"__main__\":\n",
    "    app.run(debug=False)\n",
    "    # if there's any problems, set debug =False"
   ]
  }
 ],
 "metadata": {
  "kernelspec": {
   "display_name": "Python (PythonData)",
   "language": "python",
   "name": "pythondata"
  },
  "language_info": {
   "codemirror_mode": {
    "name": "ipython",
    "version": 3
   },
   "file_extension": ".py",
   "mimetype": "text/x-python",
   "name": "python",
   "nbconvert_exporter": "python",
   "pygments_lexer": "ipython3",
   "version": "3.6.3"
  }
 },
 "nbformat": 4,
 "nbformat_minor": 2
}
